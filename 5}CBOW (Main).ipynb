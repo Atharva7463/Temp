{
  "cells": [
    {
      "cell_type": "code",
      "execution_count": null,
      "metadata": {
        "colab": {
          "base_uri": "https://localhost:8080/"
        },
        "id": "qztz4CLuYdr6",
        "outputId": "1f338c74-4ab3-4e88-e4d2-3791e1eeaa9c"
      },
      "outputs": [
        {
          "name": "stdout",
          "output_type": "stream",
          "text": [
            "Mounted at /content/drive\n"
          ]
        }
      ],
      "source": [
        "# from google.colab import drive\n",
        "# drive.mount('/content/drive')\n",
        "# # if your file is in drive"
      ]
    },
    {
      "cell_type": "code",
      "execution_count": 6,
      "metadata": {
        "id": "BaeZl6rkYemO"
      },
      "outputs": [],
      "source": [
        "import tensorflow as tf\n",
        "from tensorflow.keras.models import Sequential\n",
        "from tensorflow.keras.layers import Dense,\\\n",
        "\tEmbedding, Lambda\n",
        "from tensorflow.keras.preprocessing.text import Tokenizer\n",
        "import numpy as np\n",
        "import matplotlib.pyplot as plt\n",
        "from sklearn.decomposition import PCA\n",
        "import re"
      ]
    },
    {
      "cell_type": "code",
      "execution_count": 7,
      "metadata": {
        "id": "_XjlneUcZOqk"
      },
      "outputs": [],
      "source": [
        "data = \"\"\"We are about to study the idea of a computational process.\n",
        "Computational processes are abstract beings that inhabit computers.\n",
        "As they evolve, processes manipulate other abstract things called data.\n",
        "The evolution of a process is directed by a pattern of rules\n",
        "called a program. People create programs to direct processes. In effect,\n",
        "we conjure the spirits of the computer with our spells.\"\"\""
      ]
    },
    {
      "cell_type": "code",
      "source": [
        "sentences = data.split(\".\")"
      ],
      "metadata": {
        "id": "yfj-ld8XEbV7"
      },
      "execution_count": 8,
      "outputs": []
    },
    {
      "cell_type": "code",
      "source": [
        "sentences"
      ],
      "metadata": {
        "id": "S2o8FCPNElEb",
        "colab": {
          "base_uri": "https://localhost:8080/"
        },
        "outputId": "7b0784b9-2f28-42cc-9f8d-48b1fd225174"
      },
      "execution_count": 9,
      "outputs": [
        {
          "output_type": "execute_result",
          "data": {
            "text/plain": [
              "['We are about to study the idea of a computational process',\n",
              " '\\nComputational processes are abstract beings that inhabit computers',\n",
              " '\\nAs they evolve, processes manipulate other abstract things called data',\n",
              " '\\nThe evolution of a process is directed by a pattern of rules\\ncalled a program',\n",
              " ' People create programs to direct processes',\n",
              " ' In effect,\\nwe conjure the spirits of the computer with our spells',\n",
              " '']"
            ]
          },
          "metadata": {},
          "execution_count": 9
        }
      ]
    },
    {
      "cell_type": "code",
      "execution_count": 10,
      "metadata": {
        "id": "wg8OU3VXbSLK"
      },
      "outputs": [],
      "source": [
        "clean_sentences = []\n",
        "for sentence in sentences:\n",
        "    # skip empty string\n",
        "    if sentence == \"\":\n",
        "        continue;\n",
        "    # remove special characters\n",
        "    sentence = re.sub('[^A-Za-z0-9]+', ' ', sentence)\n",
        "    # remove 1 letter words\n",
        "    sentence = re.sub(r'(?:^| )\\w(?:$| )', ' ', sentence).strip()\n",
        "    # lower all characters\n",
        "    sentence = sentence.lower()\n",
        "    clean_sentences.append(sentence)"
      ]
    },
    {
      "cell_type": "code",
      "execution_count": 11,
      "metadata": {
        "colab": {
          "base_uri": "https://localhost:8080/"
        },
        "id": "xjqVGowfbaJ7",
        "outputId": "9157c5ab-7a53-4244-bc42-ae6f32f55fc1"
      },
      "outputs": [
        {
          "output_type": "execute_result",
          "data": {
            "text/plain": [
              "['we are about to study the idea of computational process',\n",
              " 'computational processes are abstract beings that inhabit computers',\n",
              " 'as they evolve processes manipulate other abstract things called data',\n",
              " 'the evolution of process is directed by pattern of rules called program',\n",
              " 'people create programs to direct processes',\n",
              " 'in effect we conjure the spirits of the computer with our spells']"
            ]
          },
          "metadata": {},
          "execution_count": 11
        }
      ],
      "source": [
        "clean_sentences"
      ]
    },
    {
      "cell_type": "code",
      "execution_count": 12,
      "metadata": {
        "id": "A2m6vHg-bcTm"
      },
      "outputs": [],
      "source": [
        "corpus = clean_sentences"
      ]
    },
    {
      "cell_type": "code",
      "execution_count": 13,
      "metadata": {
        "colab": {
          "base_uri": "https://localhost:8080/"
        },
        "id": "KaOUOPT3ci_x",
        "outputId": "722bfb31-265d-4b0c-ea72-4a3f593e847c"
      },
      "outputs": [
        {
          "output_type": "stream",
          "name": "stdout",
          "text": [
            "After converting our words in the corpus into vector of integers:\n",
            "[[4, 5, 11, 6, 12, 1, 13, 2, 7, 8], [7, 3, 5, 9, 14, 15, 16, 17], [18, 19, 20, 3, 21, 22, 9, 23, 10, 24], [1, 25, 2, 8, 26, 27, 28, 29, 2, 30, 10, 31], [32, 33, 34, 6, 35, 3], [36, 37, 4, 38, 1, 39, 2, 1, 40, 41, 42, 43]]\n"
          ]
        }
      ],
      "source": [
        "# Convert the corpus to a sequence of integers\n",
        "tokenizer = Tokenizer()\n",
        "tokenizer.fit_on_texts(corpus)\n",
        "sequences = tokenizer.texts_to_sequences(corpus)\n",
        "print(\"After converting our words in the corpus \\\n",
        "into vector of integers:\")\n",
        "print(sequences)"
      ]
    },
    {
      "cell_type": "code",
      "execution_count": 14,
      "metadata": {
        "id": "o8lOlOozfIl6",
        "colab": {
          "base_uri": "https://localhost:8080/"
        },
        "outputId": "0864828b-0b67-404a-ba14-3a68aca1f074"
      },
      "outputs": [
        {
          "output_type": "stream",
          "name": "stdout",
          "text": [
            "[4, 5, 11, 6, 12, 1, 13, 2, 7, 8]\n",
            "['we', 'are', 'about', 'to', 'study', 'the', 'idea', 'of', 'computational', 'process']\n",
            "[7, 3, 5, 9, 14, 15, 16, 17]\n",
            "['computational', 'processes', 'are', 'abstract', 'beings', 'that', 'inhabit', 'computers']\n",
            "[18, 19, 20, 3, 21, 22, 9, 23, 10, 24]\n",
            "['as', 'they', 'evolve', 'processes', 'manipulate', 'other', 'abstract', 'things', 'called', 'data']\n",
            "[1, 25, 2, 8, 26, 27, 28, 29, 2, 30, 10, 31]\n",
            "['the', 'evolution', 'of', 'process', 'is', 'directed', 'by', 'pattern', 'of', 'rules', 'called', 'program']\n",
            "[32, 33, 34, 6, 35, 3]\n",
            "['people', 'create', 'programs', 'to', 'direct', 'processes']\n",
            "[36, 37, 4, 38, 1, 39, 2, 1, 40, 41, 42, 43]\n",
            "['in', 'effect', 'we', 'conjure', 'the', 'spirits', 'of', 'the', 'computer', 'with', 'our', 'spells']\n"
          ]
        }
      ],
      "source": [
        "# creating dictionary for word to index and index to word\n",
        "index_to_word_map = {}\n",
        "word_to_index_map = {}\n",
        "for index_1, sequence in enumerate(sequences):\n",
        "    print(sequence)\n",
        "    words_in_sentence = clean_sentences[index_1].split()\n",
        "    print(words_in_sentence)\n",
        "    for index_2, value in enumerate(sequence):\n",
        "        index_to_word_map[value] = words_in_sentence[index_2]\n",
        "        word_to_index_map[words_in_sentence[index_2]] = value"
      ]
    },
    {
      "cell_type": "code",
      "execution_count": 15,
      "metadata": {
        "id": "pN7PT9YSfkme",
        "colab": {
          "base_uri": "https://localhost:8080/"
        },
        "outputId": "8a5b821d-e591-4425-81d7-d79de510b5d9"
      },
      "outputs": [
        {
          "output_type": "stream",
          "name": "stdout",
          "text": [
            "{4: 'we', 5: 'are', 11: 'about', 6: 'to', 12: 'study', 1: 'the', 13: 'idea', 2: 'of', 7: 'computational', 8: 'process', 3: 'processes', 9: 'abstract', 14: 'beings', 15: 'that', 16: 'inhabit', 17: 'computers', 18: 'as', 19: 'they', 20: 'evolve', 21: 'manipulate', 22: 'other', 23: 'things', 10: 'called', 24: 'data', 25: 'evolution', 26: 'is', 27: 'directed', 28: 'by', 29: 'pattern', 30: 'rules', 31: 'program', 32: 'people', 33: 'create', 34: 'programs', 35: 'direct', 36: 'in', 37: 'effect', 38: 'conjure', 39: 'spirits', 40: 'computer', 41: 'with', 42: 'our', 43: 'spells'}\n",
            "\n",
            "\n",
            "{'we': 4, 'are': 5, 'about': 11, 'to': 6, 'study': 12, 'the': 1, 'idea': 13, 'of': 2, 'computational': 7, 'process': 8, 'processes': 3, 'abstract': 9, 'beings': 14, 'that': 15, 'inhabit': 16, 'computers': 17, 'as': 18, 'they': 19, 'evolve': 20, 'manipulate': 21, 'other': 22, 'things': 23, 'called': 10, 'data': 24, 'evolution': 25, 'is': 26, 'directed': 27, 'by': 28, 'pattern': 29, 'rules': 30, 'program': 31, 'people': 32, 'create': 33, 'programs': 34, 'direct': 35, 'in': 36, 'effect': 37, 'conjure': 38, 'spirits': 39, 'computer': 40, 'with': 41, 'our': 42, 'spells': 43}\n"
          ]
        }
      ],
      "source": [
        "print(index_to_word_map)\n",
        "print(\"\\n\")\n",
        "print(word_to_index_map)\n"
      ]
    },
    {
      "cell_type": "code",
      "execution_count": 16,
      "metadata": {
        "id": "kUCsX2athNWK"
      },
      "outputs": [],
      "source": [
        "vocab_size = len(tokenizer.word_index) + 1\n",
        "embedding_size = 10\n",
        "window_size = 2\n",
        "\n",
        "# Generate the context-target pairs\n",
        "contexts = []\n",
        "targets = []\n",
        "for sequence in sequences:\n",
        "\tfor i in range(window_size, len(sequence) - window_size):\n",
        "\t\tcontext = sequence[i - window_size:i] + sequence[i + 1:i + window_size + 1]\n",
        "\t\ttarget = sequence[i]\n",
        "\t\tcontexts.append(context)\n",
        "\t\ttargets.append(target)"
      ]
    },
    {
      "cell_type": "code",
      "execution_count": 17,
      "metadata": {
        "colab": {
          "base_uri": "https://localhost:8080/"
        },
        "id": "rDNSm-Vhh84k",
        "outputId": "091007a1-5cbf-4b87-edf1-0b354e443856"
      },
      "outputs": [
        {
          "output_type": "stream",
          "name": "stdout",
          "text": [
            "['we', 'are', 'to', 'study'] => about\n",
            "['are', 'about', 'study', 'the'] => to\n",
            "['about', 'to', 'the', 'idea'] => study\n",
            "['to', 'study', 'idea', 'of'] => the\n",
            "['study', 'the', 'of', 'computational'] => idea\n"
          ]
        }
      ],
      "source": [
        "for i in range(5):\n",
        "    words = []\n",
        "    target = index_to_word_map.get(targets[i])\n",
        "    for j in contexts[i]:\n",
        "        words.append(index_to_word_map.get(j))\n",
        "    print(words, \"=>\", target)"
      ]
    },
    {
      "cell_type": "code",
      "execution_count": 18,
      "metadata": {
        "id": "xH2vK0ZiMqXI"
      },
      "outputs": [],
      "source": [
        "# Convert the contexts and targets to numpy arrays\n",
        "X = np.array(contexts)\n",
        "Y = np.array(targets)"
      ]
    },
    {
      "cell_type": "code",
      "execution_count": 19,
      "metadata": {
        "id": "cXM2ygB0OhHe",
        "colab": {
          "base_uri": "https://localhost:8080/"
        },
        "outputId": "4a7ea72e-4bf9-44fd-8116-78936d718f2c"
      },
      "outputs": [
        {
          "output_type": "stream",
          "name": "stdout",
          "text": [
            "Epoch 1/200\n",
            "2/2 [==============================] - 2s 44ms/step - loss: 3.7844 - accuracy: 0.0000e+00\n",
            "Epoch 2/200\n",
            "2/2 [==============================] - 0s 18ms/step - loss: 3.7758 - accuracy: 0.2059\n",
            "Epoch 3/200\n",
            "2/2 [==============================] - 0s 16ms/step - loss: 3.7697 - accuracy: 0.2059\n",
            "Epoch 4/200\n",
            "2/2 [==============================] - 0s 16ms/step - loss: 3.7631 - accuracy: 0.2059\n",
            "Epoch 5/200\n",
            "2/2 [==============================] - 0s 18ms/step - loss: 3.7547 - accuracy: 0.1765\n",
            "Epoch 6/200\n",
            "2/2 [==============================] - 0s 18ms/step - loss: 3.7456 - accuracy: 0.1471\n",
            "Epoch 7/200\n",
            "2/2 [==============================] - 0s 22ms/step - loss: 3.7354 - accuracy: 0.1176\n",
            "Epoch 8/200\n",
            "2/2 [==============================] - 0s 16ms/step - loss: 3.7221 - accuracy: 0.1176\n",
            "Epoch 9/200\n",
            "2/2 [==============================] - 0s 16ms/step - loss: 3.7068 - accuracy: 0.1176\n",
            "Epoch 10/200\n",
            "2/2 [==============================] - 0s 17ms/step - loss: 3.6872 - accuracy: 0.1176\n",
            "Epoch 11/200\n",
            "2/2 [==============================] - 0s 16ms/step - loss: 3.6643 - accuracy: 0.1176\n",
            "Epoch 12/200\n",
            "2/2 [==============================] - 0s 13ms/step - loss: 3.6379 - accuracy: 0.1176\n",
            "Epoch 13/200\n",
            "2/2 [==============================] - 0s 19ms/step - loss: 3.6068 - accuracy: 0.1176\n",
            "Epoch 14/200\n",
            "2/2 [==============================] - 0s 14ms/step - loss: 3.5731 - accuracy: 0.1176\n",
            "Epoch 15/200\n",
            "2/2 [==============================] - 0s 15ms/step - loss: 3.5349 - accuracy: 0.1176\n",
            "Epoch 16/200\n",
            "2/2 [==============================] - 0s 18ms/step - loss: 3.4894 - accuracy: 0.1176\n",
            "Epoch 17/200\n",
            "2/2 [==============================] - 0s 20ms/step - loss: 3.4418 - accuracy: 0.1176\n",
            "Epoch 18/200\n",
            "2/2 [==============================] - 0s 16ms/step - loss: 3.3890 - accuracy: 0.1176\n",
            "Epoch 19/200\n",
            "2/2 [==============================] - 0s 18ms/step - loss: 3.3337 - accuracy: 0.1176\n",
            "Epoch 20/200\n",
            "2/2 [==============================] - 0s 16ms/step - loss: 3.2814 - accuracy: 0.1176\n",
            "Epoch 21/200\n",
            "2/2 [==============================] - 0s 17ms/step - loss: 3.2326 - accuracy: 0.1176\n",
            "Epoch 22/200\n",
            "2/2 [==============================] - 0s 18ms/step - loss: 3.1884 - accuracy: 0.1176\n",
            "Epoch 23/200\n",
            "2/2 [==============================] - 0s 17ms/step - loss: 3.1564 - accuracy: 0.1176\n",
            "Epoch 24/200\n",
            "2/2 [==============================] - 0s 13ms/step - loss: 3.1294 - accuracy: 0.1176\n",
            "Epoch 25/200\n",
            "2/2 [==============================] - 0s 17ms/step - loss: 3.1078 - accuracy: 0.1176\n",
            "Epoch 26/200\n",
            "2/2 [==============================] - 0s 17ms/step - loss: 3.0844 - accuracy: 0.1176\n",
            "Epoch 27/200\n",
            "2/2 [==============================] - 0s 13ms/step - loss: 3.0598 - accuracy: 0.1471\n",
            "Epoch 28/200\n",
            "2/2 [==============================] - 0s 26ms/step - loss: 3.0285 - accuracy: 0.1765\n",
            "Epoch 29/200\n",
            "2/2 [==============================] - 0s 31ms/step - loss: 2.9977 - accuracy: 0.2059\n",
            "Epoch 30/200\n",
            "2/2 [==============================] - 0s 16ms/step - loss: 2.9704 - accuracy: 0.2059\n",
            "Epoch 31/200\n",
            "2/2 [==============================] - 0s 18ms/step - loss: 2.9444 - accuracy: 0.2059\n",
            "Epoch 32/200\n",
            "2/2 [==============================] - 0s 30ms/step - loss: 2.9159 - accuracy: 0.2059\n",
            "Epoch 33/200\n",
            "2/2 [==============================] - 0s 16ms/step - loss: 2.8785 - accuracy: 0.2059\n",
            "Epoch 34/200\n",
            "2/2 [==============================] - 0s 16ms/step - loss: 2.8357 - accuracy: 0.2353\n",
            "Epoch 35/200\n",
            "2/2 [==============================] - 0s 21ms/step - loss: 2.7905 - accuracy: 0.2353\n",
            "Epoch 36/200\n",
            "2/2 [==============================] - 0s 13ms/step - loss: 2.7486 - accuracy: 0.2353\n",
            "Epoch 37/200\n",
            "2/2 [==============================] - 0s 13ms/step - loss: 2.7096 - accuracy: 0.2353\n",
            "Epoch 38/200\n",
            "2/2 [==============================] - 0s 15ms/step - loss: 2.6684 - accuracy: 0.2353\n",
            "Epoch 39/200\n",
            "2/2 [==============================] - 0s 16ms/step - loss: 2.6313 - accuracy: 0.2353\n",
            "Epoch 40/200\n",
            "2/2 [==============================] - 0s 16ms/step - loss: 2.5974 - accuracy: 0.2353\n",
            "Epoch 41/200\n",
            "2/2 [==============================] - 0s 13ms/step - loss: 2.5622 - accuracy: 0.2353\n",
            "Epoch 42/200\n",
            "2/2 [==============================] - 0s 17ms/step - loss: 2.5251 - accuracy: 0.2353\n",
            "Epoch 43/200\n",
            "2/2 [==============================] - 0s 40ms/step - loss: 2.4900 - accuracy: 0.2647\n",
            "Epoch 44/200\n",
            "2/2 [==============================] - 0s 13ms/step - loss: 2.4570 - accuracy: 0.2941\n",
            "Epoch 45/200\n",
            "2/2 [==============================] - 0s 16ms/step - loss: 2.4197 - accuracy: 0.2941\n",
            "Epoch 46/200\n",
            "2/2 [==============================] - 0s 13ms/step - loss: 2.3789 - accuracy: 0.2941\n",
            "Epoch 47/200\n",
            "2/2 [==============================] - 0s 14ms/step - loss: 2.3426 - accuracy: 0.2941\n",
            "Epoch 48/200\n",
            "2/2 [==============================] - 0s 26ms/step - loss: 2.3098 - accuracy: 0.2941\n",
            "Epoch 49/200\n",
            "2/2 [==============================] - 0s 15ms/step - loss: 2.2734 - accuracy: 0.2941\n",
            "Epoch 50/200\n",
            "2/2 [==============================] - 0s 31ms/step - loss: 2.2419 - accuracy: 0.2941\n",
            "Epoch 51/200\n",
            "2/2 [==============================] - 0s 34ms/step - loss: 2.2139 - accuracy: 0.2941\n",
            "Epoch 52/200\n",
            "2/2 [==============================] - 0s 46ms/step - loss: 2.1799 - accuracy: 0.3235\n",
            "Epoch 53/200\n",
            "2/2 [==============================] - 0s 15ms/step - loss: 2.1446 - accuracy: 0.3235\n",
            "Epoch 54/200\n",
            "2/2 [==============================] - 0s 16ms/step - loss: 2.1123 - accuracy: 0.3529\n",
            "Epoch 55/200\n",
            "2/2 [==============================] - 0s 16ms/step - loss: 2.0745 - accuracy: 0.3824\n",
            "Epoch 56/200\n",
            "2/2 [==============================] - 0s 13ms/step - loss: 2.0336 - accuracy: 0.4118\n",
            "Epoch 57/200\n",
            "2/2 [==============================] - 0s 20ms/step - loss: 1.9949 - accuracy: 0.4118\n",
            "Epoch 58/200\n",
            "2/2 [==============================] - 0s 28ms/step - loss: 1.9680 - accuracy: 0.4118\n",
            "Epoch 59/200\n",
            "2/2 [==============================] - 0s 16ms/step - loss: 1.9450 - accuracy: 0.4706\n",
            "Epoch 60/200\n",
            "2/2 [==============================] - 0s 19ms/step - loss: 1.9227 - accuracy: 0.5294\n",
            "Epoch 61/200\n",
            "2/2 [==============================] - 0s 13ms/step - loss: 1.8978 - accuracy: 0.5000\n",
            "Epoch 62/200\n",
            "2/2 [==============================] - 0s 13ms/step - loss: 1.8711 - accuracy: 0.4412\n",
            "Epoch 63/200\n",
            "2/2 [==============================] - 0s 14ms/step - loss: 1.8414 - accuracy: 0.3824\n",
            "Epoch 64/200\n",
            "2/2 [==============================] - 0s 14ms/step - loss: 1.8151 - accuracy: 0.4118\n",
            "Epoch 65/200\n",
            "2/2 [==============================] - 0s 14ms/step - loss: 1.7893 - accuracy: 0.4412\n",
            "Epoch 66/200\n",
            "2/2 [==============================] - 0s 15ms/step - loss: 1.7604 - accuracy: 0.4706\n",
            "Epoch 67/200\n",
            "2/2 [==============================] - 0s 15ms/step - loss: 1.7365 - accuracy: 0.5000\n",
            "Epoch 68/200\n",
            "2/2 [==============================] - 0s 14ms/step - loss: 1.7110 - accuracy: 0.5000\n",
            "Epoch 69/200\n",
            "2/2 [==============================] - 0s 16ms/step - loss: 1.6767 - accuracy: 0.5294\n",
            "Epoch 70/200\n",
            "2/2 [==============================] - 0s 14ms/step - loss: 1.6422 - accuracy: 0.5294\n",
            "Epoch 71/200\n",
            "2/2 [==============================] - 0s 12ms/step - loss: 1.6038 - accuracy: 0.4706\n",
            "Epoch 72/200\n",
            "2/2 [==============================] - 0s 14ms/step - loss: 1.5736 - accuracy: 0.5294\n",
            "Epoch 73/200\n",
            "2/2 [==============================] - 0s 15ms/step - loss: 1.5469 - accuracy: 0.5294\n",
            "Epoch 74/200\n",
            "2/2 [==============================] - 0s 13ms/step - loss: 1.5229 - accuracy: 0.5294\n",
            "Epoch 75/200\n",
            "2/2 [==============================] - 0s 13ms/step - loss: 1.4992 - accuracy: 0.5000\n",
            "Epoch 76/200\n",
            "2/2 [==============================] - 0s 13ms/step - loss: 1.4723 - accuracy: 0.5294\n",
            "Epoch 77/200\n",
            "2/2 [==============================] - 0s 14ms/step - loss: 1.4477 - accuracy: 0.4706\n",
            "Epoch 78/200\n",
            "2/2 [==============================] - 0s 12ms/step - loss: 1.4168 - accuracy: 0.5000\n",
            "Epoch 79/200\n",
            "2/2 [==============================] - 0s 19ms/step - loss: 1.3851 - accuracy: 0.5000\n",
            "Epoch 80/200\n",
            "2/2 [==============================] - 0s 11ms/step - loss: 1.3568 - accuracy: 0.5294\n",
            "Epoch 81/200\n",
            "2/2 [==============================] - 0s 16ms/step - loss: 1.3344 - accuracy: 0.5882\n",
            "Epoch 82/200\n",
            "2/2 [==============================] - 0s 14ms/step - loss: 1.3183 - accuracy: 0.6176\n",
            "Epoch 83/200\n",
            "2/2 [==============================] - 0s 12ms/step - loss: 1.3010 - accuracy: 0.6176\n",
            "Epoch 84/200\n",
            "2/2 [==============================] - 0s 12ms/step - loss: 1.2829 - accuracy: 0.5882\n",
            "Epoch 85/200\n",
            "2/2 [==============================] - 0s 11ms/step - loss: 1.2592 - accuracy: 0.6765\n",
            "Epoch 86/200\n",
            "2/2 [==============================] - 0s 12ms/step - loss: 1.2408 - accuracy: 0.6765\n",
            "Epoch 87/200\n",
            "2/2 [==============================] - 0s 12ms/step - loss: 1.2205 - accuracy: 0.6765\n",
            "Epoch 88/200\n",
            "2/2 [==============================] - 0s 17ms/step - loss: 1.1989 - accuracy: 0.7059\n",
            "Epoch 89/200\n",
            "2/2 [==============================] - 0s 13ms/step - loss: 1.1713 - accuracy: 0.7353\n",
            "Epoch 90/200\n",
            "2/2 [==============================] - 0s 13ms/step - loss: 1.1416 - accuracy: 0.7059\n",
            "Epoch 91/200\n",
            "2/2 [==============================] - 0s 10ms/step - loss: 1.1209 - accuracy: 0.7353\n",
            "Epoch 92/200\n",
            "2/2 [==============================] - 0s 20ms/step - loss: 1.0954 - accuracy: 0.7059\n",
            "Epoch 93/200\n",
            "2/2 [==============================] - 0s 13ms/step - loss: 1.0671 - accuracy: 0.7647\n",
            "Epoch 94/200\n",
            "2/2 [==============================] - 0s 14ms/step - loss: 1.0455 - accuracy: 0.7059\n",
            "Epoch 95/200\n",
            "2/2 [==============================] - 0s 12ms/step - loss: 1.0169 - accuracy: 0.7647\n",
            "Epoch 96/200\n",
            "2/2 [==============================] - 0s 12ms/step - loss: 0.9926 - accuracy: 0.8235\n",
            "Epoch 97/200\n",
            "2/2 [==============================] - 0s 13ms/step - loss: 0.9685 - accuracy: 0.7647\n",
            "Epoch 98/200\n",
            "2/2 [==============================] - 0s 14ms/step - loss: 0.9489 - accuracy: 0.8235\n",
            "Epoch 99/200\n",
            "2/2 [==============================] - 0s 17ms/step - loss: 0.9284 - accuracy: 0.8235\n",
            "Epoch 100/200\n",
            "2/2 [==============================] - 0s 16ms/step - loss: 0.9134 - accuracy: 0.7941\n",
            "Epoch 101/200\n",
            "2/2 [==============================] - 0s 11ms/step - loss: 0.9043 - accuracy: 0.7941\n",
            "Epoch 102/200\n",
            "2/2 [==============================] - 0s 18ms/step - loss: 0.9003 - accuracy: 0.7647\n",
            "Epoch 103/200\n",
            "2/2 [==============================] - 0s 14ms/step - loss: 0.8868 - accuracy: 0.7353\n",
            "Epoch 104/200\n",
            "2/2 [==============================] - 0s 16ms/step - loss: 0.8731 - accuracy: 0.6765\n",
            "Epoch 105/200\n",
            "2/2 [==============================] - 0s 12ms/step - loss: 0.8599 - accuracy: 0.7353\n",
            "Epoch 106/200\n",
            "2/2 [==============================] - 0s 12ms/step - loss: 0.8466 - accuracy: 0.7647\n",
            "Epoch 107/200\n",
            "2/2 [==============================] - 0s 12ms/step - loss: 0.8358 - accuracy: 0.7647\n",
            "Epoch 108/200\n",
            "2/2 [==============================] - 0s 13ms/step - loss: 0.8191 - accuracy: 0.7353\n",
            "Epoch 109/200\n",
            "2/2 [==============================] - 0s 12ms/step - loss: 0.8002 - accuracy: 0.7647\n",
            "Epoch 110/200\n",
            "2/2 [==============================] - 0s 12ms/step - loss: 0.7826 - accuracy: 0.7647\n",
            "Epoch 111/200\n",
            "2/2 [==============================] - 0s 13ms/step - loss: 0.7690 - accuracy: 0.7353\n",
            "Epoch 112/200\n",
            "2/2 [==============================] - 0s 13ms/step - loss: 0.7523 - accuracy: 0.7353\n",
            "Epoch 113/200\n",
            "2/2 [==============================] - 0s 13ms/step - loss: 0.7306 - accuracy: 0.7647\n",
            "Epoch 114/200\n",
            "2/2 [==============================] - 0s 12ms/step - loss: 0.7334 - accuracy: 0.7059\n",
            "Epoch 115/200\n",
            "2/2 [==============================] - 0s 13ms/step - loss: 0.7454 - accuracy: 0.7353\n",
            "Epoch 116/200\n",
            "2/2 [==============================] - 0s 11ms/step - loss: 0.7354 - accuracy: 0.7059\n",
            "Epoch 117/200\n",
            "2/2 [==============================] - 0s 12ms/step - loss: 0.7172 - accuracy: 0.7059\n",
            "Epoch 118/200\n",
            "2/2 [==============================] - 0s 15ms/step - loss: 0.6998 - accuracy: 0.7647\n",
            "Epoch 119/200\n",
            "2/2 [==============================] - 0s 16ms/step - loss: 0.6748 - accuracy: 0.7941\n",
            "Epoch 120/200\n",
            "2/2 [==============================] - 0s 14ms/step - loss: 0.6501 - accuracy: 0.7941\n",
            "Epoch 121/200\n",
            "2/2 [==============================] - 0s 17ms/step - loss: 0.6268 - accuracy: 0.7941\n",
            "Epoch 122/200\n",
            "2/2 [==============================] - 0s 12ms/step - loss: 0.6048 - accuracy: 0.8235\n",
            "Epoch 123/200\n",
            "2/2 [==============================] - 0s 12ms/step - loss: 0.5843 - accuracy: 0.8824\n",
            "Epoch 124/200\n",
            "2/2 [==============================] - 0s 14ms/step - loss: 0.5595 - accuracy: 0.9118\n",
            "Epoch 125/200\n",
            "2/2 [==============================] - 0s 12ms/step - loss: 0.5354 - accuracy: 0.9118\n",
            "Epoch 126/200\n",
            "2/2 [==============================] - 0s 12ms/step - loss: 0.5235 - accuracy: 0.9412\n",
            "Epoch 127/200\n",
            "2/2 [==============================] - 0s 12ms/step - loss: 0.5197 - accuracy: 0.9118\n",
            "Epoch 128/200\n",
            "2/2 [==============================] - 0s 12ms/step - loss: 0.5158 - accuracy: 0.8824\n",
            "Epoch 129/200\n",
            "2/2 [==============================] - 0s 12ms/step - loss: 0.5135 - accuracy: 0.9118\n",
            "Epoch 130/200\n",
            "2/2 [==============================] - 0s 17ms/step - loss: 0.5073 - accuracy: 0.9118\n",
            "Epoch 131/200\n",
            "2/2 [==============================] - 0s 13ms/step - loss: 0.4969 - accuracy: 0.9118\n",
            "Epoch 132/200\n",
            "2/2 [==============================] - 0s 13ms/step - loss: 0.4901 - accuracy: 0.9118\n",
            "Epoch 133/200\n",
            "2/2 [==============================] - 0s 15ms/step - loss: 0.4839 - accuracy: 0.9706\n",
            "Epoch 134/200\n",
            "2/2 [==============================] - 0s 13ms/step - loss: 0.4710 - accuracy: 0.9412\n",
            "Epoch 135/200\n",
            "2/2 [==============================] - 0s 13ms/step - loss: 0.4564 - accuracy: 0.9412\n",
            "Epoch 136/200\n",
            "2/2 [==============================] - 0s 15ms/step - loss: 0.4415 - accuracy: 0.9412\n",
            "Epoch 137/200\n",
            "2/2 [==============================] - 0s 12ms/step - loss: 0.4301 - accuracy: 0.9412\n",
            "Epoch 138/200\n",
            "2/2 [==============================] - 0s 12ms/step - loss: 0.4139 - accuracy: 0.9412\n",
            "Epoch 139/200\n",
            "2/2 [==============================] - 0s 12ms/step - loss: 0.3945 - accuracy: 0.9412\n",
            "Epoch 140/200\n",
            "2/2 [==============================] - 0s 12ms/step - loss: 0.3813 - accuracy: 0.9118\n",
            "Epoch 141/200\n",
            "2/2 [==============================] - 0s 12ms/step - loss: 0.3739 - accuracy: 0.9118\n",
            "Epoch 142/200\n",
            "2/2 [==============================] - 0s 12ms/step - loss: 0.3687 - accuracy: 0.9118\n",
            "Epoch 143/200\n",
            "2/2 [==============================] - 0s 12ms/step - loss: 0.3573 - accuracy: 0.9412\n",
            "Epoch 144/200\n",
            "2/2 [==============================] - 0s 12ms/step - loss: 0.3449 - accuracy: 0.9412\n",
            "Epoch 145/200\n",
            "2/2 [==============================] - 0s 12ms/step - loss: 0.3462 - accuracy: 0.9412\n",
            "Epoch 146/200\n",
            "2/2 [==============================] - 0s 16ms/step - loss: 0.3540 - accuracy: 0.9412\n",
            "Epoch 147/200\n",
            "2/2 [==============================] - 0s 16ms/step - loss: 0.3579 - accuracy: 0.9412\n",
            "Epoch 148/200\n",
            "2/2 [==============================] - 0s 14ms/step - loss: 0.3529 - accuracy: 0.9412\n",
            "Epoch 149/200\n",
            "2/2 [==============================] - 0s 16ms/step - loss: 0.3426 - accuracy: 0.9412\n",
            "Epoch 150/200\n",
            "2/2 [==============================] - 0s 12ms/step - loss: 0.3314 - accuracy: 0.9412\n",
            "Epoch 151/200\n",
            "2/2 [==============================] - 0s 19ms/step - loss: 0.3144 - accuracy: 0.9412\n",
            "Epoch 152/200\n",
            "2/2 [==============================] - 0s 15ms/step - loss: 0.2980 - accuracy: 0.9412\n",
            "Epoch 153/200\n",
            "2/2 [==============================] - 0s 16ms/step - loss: 0.2830 - accuracy: 0.9412\n",
            "Epoch 154/200\n",
            "2/2 [==============================] - 0s 13ms/step - loss: 0.2721 - accuracy: 0.9412\n",
            "Epoch 155/200\n",
            "2/2 [==============================] - 0s 12ms/step - loss: 0.2637 - accuracy: 0.9412\n",
            "Epoch 156/200\n",
            "2/2 [==============================] - 0s 15ms/step - loss: 0.2574 - accuracy: 0.9706\n",
            "Epoch 157/200\n",
            "2/2 [==============================] - 0s 14ms/step - loss: 0.2432 - accuracy: 0.9706\n",
            "Epoch 158/200\n",
            "2/2 [==============================] - 0s 16ms/step - loss: 0.2301 - accuracy: 1.0000\n",
            "Epoch 159/200\n",
            "2/2 [==============================] - 0s 14ms/step - loss: 0.2268 - accuracy: 0.9706\n",
            "Epoch 160/200\n",
            "2/2 [==============================] - 0s 12ms/step - loss: 0.2248 - accuracy: 0.9706\n",
            "Epoch 161/200\n",
            "2/2 [==============================] - 0s 12ms/step - loss: 0.2236 - accuracy: 0.9706\n",
            "Epoch 162/200\n",
            "2/2 [==============================] - 0s 12ms/step - loss: 0.2238 - accuracy: 0.9706\n",
            "Epoch 163/200\n",
            "2/2 [==============================] - 0s 12ms/step - loss: 0.2263 - accuracy: 0.9118\n",
            "Epoch 164/200\n",
            "2/2 [==============================] - 0s 13ms/step - loss: 0.2249 - accuracy: 0.9118\n",
            "Epoch 165/200\n",
            "2/2 [==============================] - 0s 12ms/step - loss: 0.2208 - accuracy: 0.9412\n",
            "Epoch 166/200\n",
            "2/2 [==============================] - 0s 12ms/step - loss: 0.2155 - accuracy: 0.9412\n",
            "Epoch 167/200\n",
            "2/2 [==============================] - 0s 12ms/step - loss: 0.1996 - accuracy: 0.9706\n",
            "Epoch 168/200\n",
            "2/2 [==============================] - 0s 13ms/step - loss: 0.1828 - accuracy: 0.9706\n",
            "Epoch 169/200\n",
            "2/2 [==============================] - 0s 20ms/step - loss: 0.1769 - accuracy: 0.9706\n",
            "Epoch 170/200\n",
            "2/2 [==============================] - 0s 16ms/step - loss: 0.1767 - accuracy: 0.9706\n",
            "Epoch 171/200\n",
            "2/2 [==============================] - 0s 14ms/step - loss: 0.1785 - accuracy: 1.0000\n",
            "Epoch 172/200\n",
            "2/2 [==============================] - 0s 15ms/step - loss: 0.1857 - accuracy: 0.9706\n",
            "Epoch 173/200\n",
            "2/2 [==============================] - 0s 12ms/step - loss: 0.1780 - accuracy: 0.9706\n",
            "Epoch 174/200\n",
            "2/2 [==============================] - 0s 12ms/step - loss: 0.1698 - accuracy: 0.9706\n",
            "Epoch 175/200\n",
            "2/2 [==============================] - 0s 14ms/step - loss: 0.1688 - accuracy: 0.9706\n",
            "Epoch 176/200\n",
            "2/2 [==============================] - 0s 14ms/step - loss: 0.1697 - accuracy: 0.9706\n",
            "Epoch 177/200\n",
            "2/2 [==============================] - 0s 12ms/step - loss: 0.1726 - accuracy: 0.9706\n",
            "Epoch 178/200\n",
            "2/2 [==============================] - 0s 12ms/step - loss: 0.1744 - accuracy: 0.9706\n",
            "Epoch 179/200\n",
            "2/2 [==============================] - 0s 14ms/step - loss: 0.1759 - accuracy: 0.9706\n",
            "Epoch 180/200\n",
            "2/2 [==============================] - 0s 13ms/step - loss: 0.1725 - accuracy: 0.9706\n",
            "Epoch 181/200\n",
            "2/2 [==============================] - 0s 14ms/step - loss: 0.1663 - accuracy: 0.9412\n",
            "Epoch 182/200\n",
            "2/2 [==============================] - 0s 15ms/step - loss: 0.1599 - accuracy: 0.9412\n",
            "Epoch 183/200\n",
            "2/2 [==============================] - 0s 13ms/step - loss: 0.1532 - accuracy: 0.9706\n",
            "Epoch 184/200\n",
            "2/2 [==============================] - 0s 16ms/step - loss: 0.1448 - accuracy: 0.9706\n",
            "Epoch 185/200\n",
            "2/2 [==============================] - 0s 12ms/step - loss: 0.1361 - accuracy: 1.0000\n",
            "Epoch 186/200\n",
            "2/2 [==============================] - 0s 13ms/step - loss: 0.1274 - accuracy: 1.0000\n",
            "Epoch 187/200\n",
            "2/2 [==============================] - 0s 16ms/step - loss: 0.1190 - accuracy: 1.0000\n",
            "Epoch 188/200\n",
            "2/2 [==============================] - 0s 14ms/step - loss: 0.1120 - accuracy: 1.0000\n",
            "Epoch 189/200\n",
            "2/2 [==============================] - 0s 14ms/step - loss: 0.1107 - accuracy: 1.0000\n",
            "Epoch 190/200\n",
            "2/2 [==============================] - 0s 14ms/step - loss: 0.1013 - accuracy: 1.0000\n",
            "Epoch 191/200\n",
            "2/2 [==============================] - 0s 14ms/step - loss: 0.0948 - accuracy: 1.0000\n",
            "Epoch 192/200\n",
            "2/2 [==============================] - 0s 14ms/step - loss: 0.0926 - accuracy: 1.0000\n",
            "Epoch 193/200\n",
            "2/2 [==============================] - 0s 14ms/step - loss: 0.0885 - accuracy: 1.0000\n",
            "Epoch 194/200\n",
            "2/2 [==============================] - 0s 11ms/step - loss: 0.0857 - accuracy: 1.0000\n",
            "Epoch 195/200\n",
            "2/2 [==============================] - 0s 14ms/step - loss: 0.0877 - accuracy: 1.0000\n",
            "Epoch 196/200\n",
            "2/2 [==============================] - 0s 12ms/step - loss: 0.0916 - accuracy: 1.0000\n",
            "Epoch 197/200\n",
            "2/2 [==============================] - 0s 15ms/step - loss: 0.0955 - accuracy: 1.0000\n",
            "Epoch 198/200\n",
            "2/2 [==============================] - 0s 16ms/step - loss: 0.1007 - accuracy: 1.0000\n",
            "Epoch 199/200\n",
            "2/2 [==============================] - 0s 17ms/step - loss: 0.0953 - accuracy: 1.0000\n",
            "Epoch 200/200\n",
            "2/2 [==============================] - 0s 11ms/step - loss: 0.0881 - accuracy: 1.0000\n"
          ]
        },
        {
          "output_type": "execute_result",
          "data": {
            "text/plain": [
              "<keras.src.callbacks.History at 0x7ec050835570>"
            ]
          },
          "metadata": {},
          "execution_count": 19
        }
      ],
      "source": [
        "# Define the CBOW model\n",
        "model = Sequential()\n",
        "model.add(Embedding(input_dim=vocab_size, output_dim=embedding_size, input_length=2 * window_size))\n",
        "model.add(Lambda(lambda x: tf.reduce_mean(x, axis=1)))\n",
        "model.add(Dense(256, activation='relu'))\n",
        "model.add(Dense(512, activation='relu'))\n",
        "model.add(Dense(units=vocab_size, activation='softmax'))\n",
        "\n",
        "# Compile the model\n",
        "model.compile(loss='sparse_categorical_crossentropy', optimizer='adam', metrics=['accuracy'])\n",
        "\n",
        "# Train the model\n",
        "model.fit(X, Y, epochs=200, verbose=1)"
      ]
    },
    {
      "cell_type": "code",
      "execution_count": 20,
      "metadata": {
        "id": "_IjECFrKi9Hx"
      },
      "outputs": [],
      "source": [
        "# Get the word embeddings\n",
        "embeddings = model.get_weights()[0]\n",
        "\n",
        "# Perform PCA to reduce the dimensionality of the embeddings\n",
        "pca = PCA(n_components=2)\n",
        "reduced_embeddings = pca.fit_transform(embeddings)"
      ]
    },
    {
      "cell_type": "code",
      "execution_count": 21,
      "metadata": {
        "colab": {
          "base_uri": "https://localhost:8080/",
          "height": 599
        },
        "id": "yvVCNWfajvj9",
        "outputId": "6f0e07e1-3fc0-47b0-98db-93c6b81ff54e"
      },
      "outputs": [
        {
          "output_type": "display_data",
          "data": {
            "text/plain": [
              "<Figure size 700x700 with 1 Axes>"
            ],
            "image/png": "[encoded data removed]"
          },
          "metadata": {}
        }
      ],
      "source": [
        "# Visualize the embeddings\n",
        "plt.figure(figsize=(7, 7))\n",
        "for i, word in enumerate(tokenizer.word_index.keys()):\n",
        "    x, y = reduced_embeddings[i]\n",
        "    plt.scatter(x, y)\n",
        "    plt.annotate(word, xy=(x, y), xytext=(5, 2),\n",
        "                 textcoords='offset points',\n",
        "                 ha='right', va='bottom')\n",
        "plt.show()"
      ]
    },
    {
      "cell_type": "code",
      "execution_count": 22,
      "metadata": {
        "id": "ZHHMl3PCjw75"
      },
      "outputs": [],
      "source": [
        "# test model\n",
        "test_sentenses = [\n",
        "    \"we are to study\",\n",
        "    \"create programs direct processes\",\n",
        "    \"spirits process study program\",\n",
        "    \"idea study people create\"\n",
        "]"
      ]
    },
    {
      "cell_type": "code",
      "execution_count": 24,
      "metadata": {
        "id": "Iw65-ms5ko2H",
        "colab": {
          "base_uri": "https://localhost:8080/"
        },
        "outputId": "18fe519d-ccff-4eac-96cf-14ecda189522"
      },
      "outputs": [
        {
          "output_type": "stream",
          "name": "stdout",
          "text": [
            "Words:  ['we', 'are', 'to', 'study']\n",
            "Indexs:  [[ 4  5  6 12]]\n",
            "1/1 [==============================] - 0s 411ms/step\n",
            "Predictons:  ['we', 'are', 'to', 'study']  =>  about\n",
            "\n",
            "\n",
            "Words:  ['create', 'programs', 'direct', 'processes']\n",
            "Indexs:  [[33 34 35  3]]\n",
            "1/1 [==============================] - 0s 101ms/step\n",
            "Predictons:  ['create', 'programs', 'direct', 'processes']  =>  to\n",
            "\n",
            "\n",
            "Words:  ['spirits', 'process', 'study', 'program']\n",
            "Indexs:  [[39  8 12 31]]\n",
            "1/1 [==============================] - 0s 91ms/step\n",
            "Predictons:  ['spirits', 'process', 'study', 'program']  =>  pattern\n",
            "\n",
            "\n",
            "Words:  ['idea', 'study', 'people', 'create']\n",
            "Indexs:  [[13 12 32 33]]\n",
            "1/1 [==============================] - 0s 104ms/step\n",
            "Predictons:  ['idea', 'study', 'people', 'create']  =>  programs\n",
            "\n",
            "\n"
          ]
        }
      ],
      "source": [
        "for test_sentense in test_sentenses:\n",
        "    test_words = test_sentense.split(\" \")\n",
        "    print(\"Words: \", test_words)\n",
        "    x_test = []\n",
        "    for i in test_words:\n",
        "        x_test.append(word_to_index_map.get(i))\n",
        "    x_test = np.array([x_test])\n",
        "    print(\"Indexs: \", x_test)\n",
        "    test_predictions = model.predict(x_test)\n",
        "    y_pred = np.argmax(test_predictions[0])\n",
        "    print(\"Predictons: \",test_words, \" => \", index_to_word_map.get(y_pred))\n",
        "    print(\"\\n\")"
      ]
    },
    {
      "cell_type": "code",
      "execution_count": 24,
      "metadata": {
        "id": "wZtTUi94ncsT"
      },
      "outputs": [],
      "source": []
    }
  ],
  "metadata": {
    "colab": {
      "provenance": []
    },
    "kernelspec": {
      "display_name": "Python 3 (ipykernel)",
      "language": "python",
      "name": "python3"
    },
    "language_info": {
      "codemirror_mode": {
        "name": "ipython",
        "version": 3
      },
      "file_extension": ".py",
      "mimetype": "text/x-python",
      "name": "python",
      "nbconvert_exporter": "python",
      "pygments_lexer": "ipython3",
      "version": "3.11.5"
    }
  },
  "nbformat": 4,
  "nbformat_minor": 0
}